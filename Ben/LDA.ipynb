{
 "cells": [
  {
   "cell_type": "code",
   "execution_count": 1,
   "metadata": {},
   "outputs": [],
   "source": [
    "import numpy as np\n",
    "import pandas as pd"
   ]
  },
  {
   "cell_type": "code",
   "execution_count": 5,
   "metadata": {},
   "outputs": [],
   "source": [
    "# A small test data set I used to verify everything is working correctly\n",
    "beetles_df = pd.read_csv(\"beetles.txt\", sep=\" \")"
   ]
  },
  {
   "cell_type": "code",
   "execution_count": 10,
   "metadata": {},
   "outputs": [],
   "source": [
    "class LinearDiscriminantAnalysis:\n",
    "\n",
    "    def fit(self, df, label):\n",
    "        self._df = df\n",
    "        self._label = label\n",
    "        self._classes =  df[label].unique()\n",
    "        self._class_means = self._get_class_means()\n",
    "        self._cov_matrix = df.drop([label], axis = 1).cov()\n",
    "        \n",
    "    def predict(self, X):\n",
    "        \n",
    "        X = np.array(X)\n",
    "        \n",
    "        predictions = []\n",
    "                \n",
    "        for i in range(X.shape[0]):\n",
    "            \n",
    "            row = X[i]\n",
    "                    \n",
    "            best_score = np.NINF\n",
    "            best_class = None\n",
    "\n",
    "            for k in self._classes:\n",
    "                score = self._discrim_func(row, k)\n",
    "\n",
    "                if score > best_score:\n",
    "                    best_score = score\n",
    "                    best_class = k\n",
    "\n",
    "            predictions.append(best_class)\n",
    "        \n",
    "        if len(predictions) == 1:\n",
    "            return predictions[0]\n",
    "        else:\n",
    "            return predictions\n",
    "            \n",
    "            \n",
    "    def _get_class_means(self):\n",
    "        class_feature_means = pd.DataFrame()\n",
    "\n",
    "        for c, rows in self._df.groupby(self._label):\n",
    "            class_feature_means[c] = rows.mean()\n",
    "\n",
    "        return class_feature_means.drop([self._label], axis = 0)\n",
    "    \n",
    "    def _discrim_func(self, X, k):\n",
    "    \n",
    "        pi_k = len(self._df[self._df[self._label] == k]) #[0]\n",
    "\n",
    "        c_means = self._class_means[k]\n",
    "\n",
    "        cov_inv = np.linalg.inv(self._cov_matrix)\n",
    "\n",
    "        result = X.transpose().dot(cov_inv).dot(c_means)\n",
    "        result = result - (1/2) * c_means.transpose().dot(cov_inv).dot(c_means) \n",
    "        result = result + np.log(pi_k)\n",
    "\n",
    "        return result"
   ]
  },
  {
   "cell_type": "code",
   "execution_count": 11,
   "metadata": {},
   "outputs": [],
   "source": [
    "lda = LinearDiscriminantAnalysis()\n",
    "lda.fit(beetles_df, 'Species')"
   ]
  },
  {
   "cell_type": "code",
   "execution_count": 12,
   "metadata": {},
   "outputs": [
    {
     "data": {
      "text/plain": [
       "[1,\n",
       " 1,\n",
       " 1,\n",
       " 1,\n",
       " 1,\n",
       " 1,\n",
       " 1,\n",
       " 1,\n",
       " 1,\n",
       " 1,\n",
       " 1,\n",
       " 1,\n",
       " 1,\n",
       " 1,\n",
       " 1,\n",
       " 1,\n",
       " 1,\n",
       " 1,\n",
       " 1,\n",
       " 2,\n",
       " 2,\n",
       " 2,\n",
       " 2,\n",
       " 2,\n",
       " 2,\n",
       " 2,\n",
       " 1,\n",
       " 2,\n",
       " 2,\n",
       " 2,\n",
       " 2,\n",
       " 2,\n",
       " 2,\n",
       " 2,\n",
       " 2,\n",
       " 2,\n",
       " 2,\n",
       " 2,\n",
       " 2]"
      ]
     },
     "execution_count": 12,
     "metadata": {},
     "output_type": "execute_result"
    }
   ],
   "source": [
    "full_X = beetles_df.drop(['Species'], axis = 1)\n",
    "lda.predict(full_X)"
   ]
  },
  {
   "cell_type": "code",
   "execution_count": null,
   "metadata": {},
   "outputs": [],
   "source": []
  }
 ],
 "metadata": {
  "kernelspec": {
   "display_name": "Python 3",
   "language": "python",
   "name": "python3"
  },
  "language_info": {
   "codemirror_mode": {
    "name": "ipython",
    "version": 3
   },
   "file_extension": ".py",
   "mimetype": "text/x-python",
   "name": "python",
   "nbconvert_exporter": "python",
   "pygments_lexer": "ipython3",
   "version": "3.7.1"
  }
 },
 "nbformat": 4,
 "nbformat_minor": 4
}
